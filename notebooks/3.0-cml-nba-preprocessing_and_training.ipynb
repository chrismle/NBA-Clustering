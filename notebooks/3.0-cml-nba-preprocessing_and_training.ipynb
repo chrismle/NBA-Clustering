{
 "cells": [
  {
   "cell_type": "markdown",
   "id": "89fe7e98",
   "metadata": {},
   "source": [
    "# NBA Player Stats - Pre-processing and Training Data"
   ]
  },
  {
   "cell_type": "markdown",
   "id": "fd1d3e0f",
   "metadata": {},
   "source": [
    "Pre-process and prepare NBA Player stats data for model fitting. "
   ]
  },
  {
   "cell_type": "markdown",
   "id": "99a7c39a",
   "metadata": {},
   "source": [
    "## Imports"
   ]
  },
  {
   "cell_type": "code",
   "execution_count": 1,
   "id": "70152b82",
   "metadata": {},
   "outputs": [],
   "source": [
    "# Import relevant libraries and packages\n",
    "import pandas as pd\n",
    "import numpy as np\n",
    "import matplotlib.pyplot as plt\n",
    "import seaborn as sns\n",
    "from sklearn.decomposition import PCA\n",
    "from sklearn.preprocessing import scale, StandardScaler, MinMaxScaler\n",
    "from sklearn.model_selection import train_test_split, cross_validate, GridSearchCV, learning_curve\n",
    "from sklearn.dummy import DummyRegressor\n",
    "from sklearn.pipeline import make_pipeline\n",
    "\n",
    "# Suppress future warning messages\n",
    "import warnings\n",
    "warnings.simplefilter(action='ignore', category=FutureWarning)\n",
    "warnings.simplefilter(action='ignore', category=UserWarning)\n",
    "\n",
    "# Prepare the notebook for matplotlib and other libraries- show plots inline\n",
    "%matplotlib inline"
   ]
  },
  {
   "cell_type": "markdown",
   "id": "c3847c6a",
   "metadata": {},
   "source": [
    "## Loading Data"
   ]
  },
  {
   "cell_type": "code",
   "execution_count": 2,
   "id": "3a687070",
   "metadata": {},
   "outputs": [],
   "source": [
    "# Load data and set parameter index_col=0, because first column contains no useful data. \n",
    "nba_df = pd.read_csv('NBA-Clustering/data/interim/nba_stats_cleaned.csv', index_col=0)"
   ]
  },
  {
   "cell_type": "markdown",
   "id": "720fcf02",
   "metadata": {},
   "source": [
    "## Explore Data"
   ]
  },
  {
   "cell_type": "code",
   "execution_count": 3,
   "id": "d9b8e6c7",
   "metadata": {},
   "outputs": [
    {
     "data": {
      "text/html": [
       "<div>\n",
       "<style scoped>\n",
       "    .dataframe tbody tr th:only-of-type {\n",
       "        vertical-align: middle;\n",
       "    }\n",
       "\n",
       "    .dataframe tbody tr th {\n",
       "        vertical-align: top;\n",
       "    }\n",
       "\n",
       "    .dataframe thead th {\n",
       "        text-align: right;\n",
       "    }\n",
       "</style>\n",
       "<table border=\"1\" class=\"dataframe\">\n",
       "  <thead>\n",
       "    <tr style=\"text-align: right;\">\n",
       "      <th></th>\n",
       "      <th>Player</th>\n",
       "      <th>G</th>\n",
       "      <th>MP</th>\n",
       "      <th>FG</th>\n",
       "      <th>FGA</th>\n",
       "      <th>FG%</th>\n",
       "      <th>3P</th>\n",
       "      <th>3PA</th>\n",
       "      <th>3P%</th>\n",
       "      <th>2P</th>\n",
       "      <th>...</th>\n",
       "      <th>FT%</th>\n",
       "      <th>ORB</th>\n",
       "      <th>DRB</th>\n",
       "      <th>TRB</th>\n",
       "      <th>AST</th>\n",
       "      <th>STL</th>\n",
       "      <th>BLK</th>\n",
       "      <th>TOV</th>\n",
       "      <th>PF</th>\n",
       "      <th>PTS</th>\n",
       "    </tr>\n",
       "  </thead>\n",
       "  <tbody>\n",
       "    <tr>\n",
       "      <th>0</th>\n",
       "      <td>Precious Achiuwa</td>\n",
       "      <td>73</td>\n",
       "      <td>23.6</td>\n",
       "      <td>3.6</td>\n",
       "      <td>8.3</td>\n",
       "      <td>0.439</td>\n",
       "      <td>0.8</td>\n",
       "      <td>2.1</td>\n",
       "      <td>0.359</td>\n",
       "      <td>2.9</td>\n",
       "      <td>...</td>\n",
       "      <td>0.595</td>\n",
       "      <td>2.0</td>\n",
       "      <td>4.5</td>\n",
       "      <td>6.5</td>\n",
       "      <td>1.1</td>\n",
       "      <td>0.5</td>\n",
       "      <td>0.6</td>\n",
       "      <td>1.2</td>\n",
       "      <td>2.1</td>\n",
       "      <td>9.1</td>\n",
       "    </tr>\n",
       "    <tr>\n",
       "      <th>1</th>\n",
       "      <td>Steven Adams</td>\n",
       "      <td>76</td>\n",
       "      <td>26.3</td>\n",
       "      <td>2.8</td>\n",
       "      <td>5.1</td>\n",
       "      <td>0.547</td>\n",
       "      <td>0.0</td>\n",
       "      <td>0.0</td>\n",
       "      <td>0.000</td>\n",
       "      <td>2.8</td>\n",
       "      <td>...</td>\n",
       "      <td>0.543</td>\n",
       "      <td>4.6</td>\n",
       "      <td>5.4</td>\n",
       "      <td>10.0</td>\n",
       "      <td>3.4</td>\n",
       "      <td>0.9</td>\n",
       "      <td>0.8</td>\n",
       "      <td>1.5</td>\n",
       "      <td>2.0</td>\n",
       "      <td>6.9</td>\n",
       "    </tr>\n",
       "    <tr>\n",
       "      <th>2</th>\n",
       "      <td>Bam Adebayo</td>\n",
       "      <td>56</td>\n",
       "      <td>32.6</td>\n",
       "      <td>7.3</td>\n",
       "      <td>13.0</td>\n",
       "      <td>0.557</td>\n",
       "      <td>0.0</td>\n",
       "      <td>0.1</td>\n",
       "      <td>0.000</td>\n",
       "      <td>7.3</td>\n",
       "      <td>...</td>\n",
       "      <td>0.753</td>\n",
       "      <td>2.4</td>\n",
       "      <td>7.6</td>\n",
       "      <td>10.1</td>\n",
       "      <td>3.4</td>\n",
       "      <td>1.4</td>\n",
       "      <td>0.8</td>\n",
       "      <td>2.6</td>\n",
       "      <td>3.1</td>\n",
       "      <td>19.1</td>\n",
       "    </tr>\n",
       "    <tr>\n",
       "      <th>3</th>\n",
       "      <td>Santi Aldama</td>\n",
       "      <td>32</td>\n",
       "      <td>11.3</td>\n",
       "      <td>1.7</td>\n",
       "      <td>4.1</td>\n",
       "      <td>0.402</td>\n",
       "      <td>0.2</td>\n",
       "      <td>1.5</td>\n",
       "      <td>0.125</td>\n",
       "      <td>1.5</td>\n",
       "      <td>...</td>\n",
       "      <td>0.625</td>\n",
       "      <td>1.0</td>\n",
       "      <td>1.7</td>\n",
       "      <td>2.7</td>\n",
       "      <td>0.7</td>\n",
       "      <td>0.2</td>\n",
       "      <td>0.3</td>\n",
       "      <td>0.5</td>\n",
       "      <td>1.1</td>\n",
       "      <td>4.1</td>\n",
       "    </tr>\n",
       "    <tr>\n",
       "      <th>4</th>\n",
       "      <td>LaMarcus Aldridge</td>\n",
       "      <td>47</td>\n",
       "      <td>22.3</td>\n",
       "      <td>5.4</td>\n",
       "      <td>9.7</td>\n",
       "      <td>0.550</td>\n",
       "      <td>0.3</td>\n",
       "      <td>1.0</td>\n",
       "      <td>0.304</td>\n",
       "      <td>5.1</td>\n",
       "      <td>...</td>\n",
       "      <td>0.873</td>\n",
       "      <td>1.6</td>\n",
       "      <td>3.9</td>\n",
       "      <td>5.5</td>\n",
       "      <td>0.9</td>\n",
       "      <td>0.3</td>\n",
       "      <td>1.0</td>\n",
       "      <td>0.9</td>\n",
       "      <td>1.7</td>\n",
       "      <td>12.9</td>\n",
       "    </tr>\n",
       "    <tr>\n",
       "      <th>5</th>\n",
       "      <td>Nickeil Alexander-Walker</td>\n",
       "      <td>65</td>\n",
       "      <td>22.6</td>\n",
       "      <td>3.9</td>\n",
       "      <td>10.5</td>\n",
       "      <td>0.372</td>\n",
       "      <td>1.6</td>\n",
       "      <td>5.2</td>\n",
       "      <td>0.311</td>\n",
       "      <td>2.3</td>\n",
       "      <td>...</td>\n",
       "      <td>0.743</td>\n",
       "      <td>0.6</td>\n",
       "      <td>2.3</td>\n",
       "      <td>2.9</td>\n",
       "      <td>2.4</td>\n",
       "      <td>0.7</td>\n",
       "      <td>0.4</td>\n",
       "      <td>1.4</td>\n",
       "      <td>1.6</td>\n",
       "      <td>10.6</td>\n",
       "    </tr>\n",
       "    <tr>\n",
       "      <th>8</th>\n",
       "      <td>Grayson Allen</td>\n",
       "      <td>66</td>\n",
       "      <td>27.3</td>\n",
       "      <td>3.9</td>\n",
       "      <td>8.6</td>\n",
       "      <td>0.448</td>\n",
       "      <td>2.4</td>\n",
       "      <td>5.9</td>\n",
       "      <td>0.409</td>\n",
       "      <td>1.5</td>\n",
       "      <td>...</td>\n",
       "      <td>0.865</td>\n",
       "      <td>0.5</td>\n",
       "      <td>2.9</td>\n",
       "      <td>3.4</td>\n",
       "      <td>1.5</td>\n",
       "      <td>0.7</td>\n",
       "      <td>0.3</td>\n",
       "      <td>0.7</td>\n",
       "      <td>1.5</td>\n",
       "      <td>11.1</td>\n",
       "    </tr>\n",
       "    <tr>\n",
       "      <th>9</th>\n",
       "      <td>Jarrett Allen</td>\n",
       "      <td>56</td>\n",
       "      <td>32.3</td>\n",
       "      <td>6.6</td>\n",
       "      <td>9.7</td>\n",
       "      <td>0.677</td>\n",
       "      <td>0.0</td>\n",
       "      <td>0.2</td>\n",
       "      <td>0.100</td>\n",
       "      <td>6.6</td>\n",
       "      <td>...</td>\n",
       "      <td>0.708</td>\n",
       "      <td>3.4</td>\n",
       "      <td>7.3</td>\n",
       "      <td>10.8</td>\n",
       "      <td>1.6</td>\n",
       "      <td>0.8</td>\n",
       "      <td>1.3</td>\n",
       "      <td>1.7</td>\n",
       "      <td>1.7</td>\n",
       "      <td>16.1</td>\n",
       "    </tr>\n",
       "    <tr>\n",
       "      <th>10</th>\n",
       "      <td>Jose Alvarado</td>\n",
       "      <td>54</td>\n",
       "      <td>15.4</td>\n",
       "      <td>2.4</td>\n",
       "      <td>5.4</td>\n",
       "      <td>0.446</td>\n",
       "      <td>0.6</td>\n",
       "      <td>2.0</td>\n",
       "      <td>0.291</td>\n",
       "      <td>1.8</td>\n",
       "      <td>...</td>\n",
       "      <td>0.679</td>\n",
       "      <td>0.5</td>\n",
       "      <td>1.4</td>\n",
       "      <td>1.9</td>\n",
       "      <td>2.8</td>\n",
       "      <td>1.3</td>\n",
       "      <td>0.1</td>\n",
       "      <td>0.7</td>\n",
       "      <td>1.4</td>\n",
       "      <td>6.1</td>\n",
       "    </tr>\n",
       "    <tr>\n",
       "      <th>11</th>\n",
       "      <td>Justin Anderson</td>\n",
       "      <td>16</td>\n",
       "      <td>19.8</td>\n",
       "      <td>2.3</td>\n",
       "      <td>5.9</td>\n",
       "      <td>0.379</td>\n",
       "      <td>0.9</td>\n",
       "      <td>3.7</td>\n",
       "      <td>0.254</td>\n",
       "      <td>1.3</td>\n",
       "      <td>...</td>\n",
       "      <td>0.789</td>\n",
       "      <td>0.3</td>\n",
       "      <td>2.6</td>\n",
       "      <td>2.9</td>\n",
       "      <td>2.1</td>\n",
       "      <td>0.5</td>\n",
       "      <td>0.4</td>\n",
       "      <td>0.5</td>\n",
       "      <td>1.4</td>\n",
       "      <td>6.4</td>\n",
       "    </tr>\n",
       "  </tbody>\n",
       "</table>\n",
       "<p>10 rows × 25 columns</p>\n",
       "</div>"
      ],
      "text/plain": [
       "                      Player   G    MP   FG   FGA    FG%   3P  3PA    3P%  \\\n",
       "0           Precious Achiuwa  73  23.6  3.6   8.3  0.439  0.8  2.1  0.359   \n",
       "1               Steven Adams  76  26.3  2.8   5.1  0.547  0.0  0.0  0.000   \n",
       "2                Bam Adebayo  56  32.6  7.3  13.0  0.557  0.0  0.1  0.000   \n",
       "3               Santi Aldama  32  11.3  1.7   4.1  0.402  0.2  1.5  0.125   \n",
       "4          LaMarcus Aldridge  47  22.3  5.4   9.7  0.550  0.3  1.0  0.304   \n",
       "5   Nickeil Alexander-Walker  65  22.6  3.9  10.5  0.372  1.6  5.2  0.311   \n",
       "8              Grayson Allen  66  27.3  3.9   8.6  0.448  2.4  5.9  0.409   \n",
       "9              Jarrett Allen  56  32.3  6.6   9.7  0.677  0.0  0.2  0.100   \n",
       "10             Jose Alvarado  54  15.4  2.4   5.4  0.446  0.6  2.0  0.291   \n",
       "11           Justin Anderson  16  19.8  2.3   5.9  0.379  0.9  3.7  0.254   \n",
       "\n",
       "     2P  ...    FT%  ORB  DRB   TRB  AST  STL  BLK  TOV   PF   PTS  \n",
       "0   2.9  ...  0.595  2.0  4.5   6.5  1.1  0.5  0.6  1.2  2.1   9.1  \n",
       "1   2.8  ...  0.543  4.6  5.4  10.0  3.4  0.9  0.8  1.5  2.0   6.9  \n",
       "2   7.3  ...  0.753  2.4  7.6  10.1  3.4  1.4  0.8  2.6  3.1  19.1  \n",
       "3   1.5  ...  0.625  1.0  1.7   2.7  0.7  0.2  0.3  0.5  1.1   4.1  \n",
       "4   5.1  ...  0.873  1.6  3.9   5.5  0.9  0.3  1.0  0.9  1.7  12.9  \n",
       "5   2.3  ...  0.743  0.6  2.3   2.9  2.4  0.7  0.4  1.4  1.6  10.6  \n",
       "8   1.5  ...  0.865  0.5  2.9   3.4  1.5  0.7  0.3  0.7  1.5  11.1  \n",
       "9   6.6  ...  0.708  3.4  7.3  10.8  1.6  0.8  1.3  1.7  1.7  16.1  \n",
       "10  1.8  ...  0.679  0.5  1.4   1.9  2.8  1.3  0.1  0.7  1.4   6.1  \n",
       "11  1.3  ...  0.789  0.3  2.6   2.9  2.1  0.5  0.4  0.5  1.4   6.4  \n",
       "\n",
       "[10 rows x 25 columns]"
      ]
     },
     "execution_count": 3,
     "metadata": {},
     "output_type": "execute_result"
    }
   ],
   "source": [
    "# Checkout Data appearance\n",
    "nba_df.head(10)"
   ]
  },
  {
   "cell_type": "code",
   "execution_count": 4,
   "id": "c758cc94",
   "metadata": {},
   "outputs": [
    {
     "data": {
      "text/plain": [
       "(500, 25)"
      ]
     },
     "execution_count": 4,
     "metadata": {},
     "output_type": "execute_result"
    }
   ],
   "source": [
    "# Check out Data shape\n",
    "nba_df.shape"
   ]
  },
  {
   "cell_type": "code",
   "execution_count": 5,
   "id": "3c1d4f99",
   "metadata": {},
   "outputs": [
    {
     "data": {
      "text/plain": [
       "Player     object\n",
       "G           int64\n",
       "MP        float64\n",
       "FG        float64\n",
       "FGA       float64\n",
       "FG%       float64\n",
       "3P        float64\n",
       "3PA       float64\n",
       "3P%       float64\n",
       "2P        float64\n",
       "2PA       float64\n",
       "2P%       float64\n",
       "eFG%      float64\n",
       "FT        float64\n",
       "FTA       float64\n",
       "FT%       float64\n",
       "ORB       float64\n",
       "DRB       float64\n",
       "TRB       float64\n",
       "AST       float64\n",
       "STL       float64\n",
       "BLK       float64\n",
       "TOV       float64\n",
       "PF        float64\n",
       "PTS       float64\n",
       "dtype: object"
      ]
     },
     "execution_count": 5,
     "metadata": {},
     "output_type": "execute_result"
    }
   ],
   "source": [
    "# Look at Data types\n",
    "nba_df.dtypes"
   ]
  },
  {
   "cell_type": "code",
   "execution_count": 6,
   "id": "56ecf20b",
   "metadata": {},
   "outputs": [
    {
     "name": "stdout",
     "output_type": "stream",
     "text": [
      "<class 'pandas.core.frame.DataFrame'>\n",
      "Int64Index: 500 entries, 0 to 811\n",
      "Data columns (total 25 columns):\n",
      " #   Column  Non-Null Count  Dtype  \n",
      "---  ------  --------------  -----  \n",
      " 0   Player  500 non-null    object \n",
      " 1   G       500 non-null    int64  \n",
      " 2   MP      500 non-null    float64\n",
      " 3   FG      500 non-null    float64\n",
      " 4   FGA     500 non-null    float64\n",
      " 5   FG%     500 non-null    float64\n",
      " 6   3P      500 non-null    float64\n",
      " 7   3PA     500 non-null    float64\n",
      " 8   3P%     500 non-null    float64\n",
      " 9   2P      500 non-null    float64\n",
      " 10  2PA     500 non-null    float64\n",
      " 11  2P%     500 non-null    float64\n",
      " 12  eFG%    500 non-null    float64\n",
      " 13  FT      500 non-null    float64\n",
      " 14  FTA     500 non-null    float64\n",
      " 15  FT%     500 non-null    float64\n",
      " 16  ORB     500 non-null    float64\n",
      " 17  DRB     500 non-null    float64\n",
      " 18  TRB     500 non-null    float64\n",
      " 19  AST     500 non-null    float64\n",
      " 20  STL     500 non-null    float64\n",
      " 21  BLK     500 non-null    float64\n",
      " 22  TOV     500 non-null    float64\n",
      " 23  PF      500 non-null    float64\n",
      " 24  PTS     500 non-null    float64\n",
      "dtypes: float64(23), int64(1), object(1)\n",
      "memory usage: 101.6+ KB\n"
     ]
    }
   ],
   "source": [
    "# Obtain data overview\n",
    "nba_df.info()"
   ]
  },
  {
   "cell_type": "markdown",
   "id": "2339b9a9",
   "metadata": {},
   "source": [
    "## Create Dummy/Indicator Features for any Categorical Variables"
   ]
  },
  {
   "cell_type": "code",
   "execution_count": 7,
   "id": "9df0a563",
   "metadata": {},
   "outputs": [
    {
     "data": {
      "text/plain": [
       "Index(['Player', 'G', 'MP', 'FG', 'FGA', 'FG%', '3P', '3PA', '3P%', '2P',\n",
       "       '2PA', '2P%', 'eFG%', 'FT', 'FTA', 'FT%', 'ORB', 'DRB', 'TRB', 'AST',\n",
       "       'STL', 'BLK', 'TOV', 'PF', 'PTS'],\n",
       "      dtype='object')"
      ]
     },
     "execution_count": 7,
     "metadata": {},
     "output_type": "execute_result"
    }
   ],
   "source": [
    "# Check the names of NBA_df columns\n",
    "nba_df.columns"
   ]
  },
  {
   "cell_type": "code",
   "execution_count": 8,
   "id": "d29c499b",
   "metadata": {},
   "outputs": [],
   "source": [
    "# Feature selection:\n",
    "features = ['G', 'MP', 'FG', 'FGA', 'FG%', '3P', '3PA', '3P%', '2P',\n",
    "       '2PA', '2P%', 'eFG%', 'FT', 'FTA', 'FT%', 'ORB', 'DRB', 'TRB', 'AST',\n",
    "       'STL', 'BLK', 'TOV', 'PF', 'PTS']"
   ]
  },
  {
   "cell_type": "code",
   "execution_count": 9,
   "id": "f4f7797e",
   "metadata": {},
   "outputs": [],
   "source": [
    "# Make an explanatory and dependent variable\n",
    "X = nba_df[features]\n",
    "y = nba_df.Player"
   ]
  },
  {
   "cell_type": "code",
   "execution_count": 10,
   "id": "e7a0bde1",
   "metadata": {},
   "outputs": [],
   "source": [
    "# One-hot encode categorical features in X, if any\n",
    "X = pd.get_dummies(X)"
   ]
  },
  {
   "cell_type": "markdown",
   "id": "cb26bc2b",
   "metadata": {},
   "source": [
    "## Split Data into Training and Testing Subsets"
   ]
  },
  {
   "cell_type": "code",
   "execution_count": 11,
   "id": "002bcded",
   "metadata": {},
   "outputs": [],
   "source": [
    "# Split into train/test data sets\n",
    "X_train, X_test, y_train, y_test = train_test_split(X, y, \n",
    "                                                    test_size=0.30, \n",
    "                                                    random_state=24)"
   ]
  },
  {
   "cell_type": "code",
   "execution_count": 12,
   "id": "fdaa0669",
   "metadata": {},
   "outputs": [
    {
     "data": {
      "text/plain": [
       "((350, 24), (150, 24))"
      ]
     },
     "execution_count": 12,
     "metadata": {},
     "output_type": "execute_result"
    }
   ],
   "source": [
    "# Confirm training data shape\n",
    "X_train.shape, X_test.shape"
   ]
  },
  {
   "cell_type": "code",
   "execution_count": 13,
   "id": "07811bce",
   "metadata": {},
   "outputs": [
    {
     "data": {
      "text/plain": [
       "((350,), (150,))"
      ]
     },
     "execution_count": 13,
     "metadata": {},
     "output_type": "execute_result"
    }
   ],
   "source": [
    "# Confirm testing data shape\n",
    "y_train.shape, y_test.shape"
   ]
  },
  {
   "cell_type": "markdown",
   "id": "c6ab3d2b",
   "metadata": {},
   "source": [
    "## Standardize the Magnitude of Numeric Features"
   ]
  },
  {
   "cell_type": "code",
   "execution_count": 14,
   "id": "3469fc7a",
   "metadata": {},
   "outputs": [],
   "source": [
    "# Make Scaler object\n",
    "scaler = StandardScaler()"
   ]
  },
  {
   "cell_type": "code",
   "execution_count": 15,
   "id": "eaf63e1e",
   "metadata": {},
   "outputs": [
    {
     "data": {
      "text/plain": [
       "StandardScaler()"
      ]
     },
     "execution_count": 15,
     "metadata": {},
     "output_type": "execute_result"
    }
   ],
   "source": [
    "# Fit scaler based on training data\n",
    "scaler.fit(X_train)"
   ]
  },
  {
   "cell_type": "code",
   "execution_count": 16,
   "id": "62cabc7c",
   "metadata": {},
   "outputs": [],
   "source": [
    "# Transform training data using fitted scaler\n",
    "X_train_scaled = scaler.transform(X_train)\n",
    "X_test_scaled = scaler.transform(X_test)"
   ]
  },
  {
   "cell_type": "code",
   "execution_count": 17,
   "id": "b4c3b303",
   "metadata": {},
   "outputs": [],
   "source": [
    "# Re-introduce column names back into new scaled df\n",
    "X_train_scaled = pd.DataFrame(X_train_scaled, columns=features)\n",
    "X_test_scaled = pd.DataFrame(X_test_scaled, columns=features)"
   ]
  },
  {
   "cell_type": "code",
   "execution_count": 19,
   "id": "63800e5e",
   "metadata": {},
   "outputs": [
    {
     "data": {
      "text/html": [
       "<div>\n",
       "<style scoped>\n",
       "    .dataframe tbody tr th:only-of-type {\n",
       "        vertical-align: middle;\n",
       "    }\n",
       "\n",
       "    .dataframe tbody tr th {\n",
       "        vertical-align: top;\n",
       "    }\n",
       "\n",
       "    .dataframe thead th {\n",
       "        text-align: right;\n",
       "    }\n",
       "</style>\n",
       "<table border=\"1\" class=\"dataframe\">\n",
       "  <thead>\n",
       "    <tr style=\"text-align: right;\">\n",
       "      <th></th>\n",
       "      <th>G</th>\n",
       "      <th>MP</th>\n",
       "      <th>FG</th>\n",
       "      <th>FGA</th>\n",
       "      <th>FG%</th>\n",
       "      <th>3P</th>\n",
       "      <th>3PA</th>\n",
       "      <th>3P%</th>\n",
       "      <th>2P</th>\n",
       "      <th>2PA</th>\n",
       "      <th>...</th>\n",
       "      <th>FT%</th>\n",
       "      <th>ORB</th>\n",
       "      <th>DRB</th>\n",
       "      <th>TRB</th>\n",
       "      <th>AST</th>\n",
       "      <th>STL</th>\n",
       "      <th>BLK</th>\n",
       "      <th>TOV</th>\n",
       "      <th>PF</th>\n",
       "      <th>PTS</th>\n",
       "    </tr>\n",
       "  </thead>\n",
       "  <tbody>\n",
       "    <tr>\n",
       "      <th>0</th>\n",
       "      <td>1.124903</td>\n",
       "      <td>0.168298</td>\n",
       "      <td>0.382729</td>\n",
       "      <td>0.543209</td>\n",
       "      <td>-0.283582</td>\n",
       "      <td>1.636220</td>\n",
       "      <td>1.452162</td>\n",
       "      <td>0.782967</td>\n",
       "      <td>-0.294463</td>\n",
       "      <td>-0.246067</td>\n",
       "      <td>...</td>\n",
       "      <td>0.661008</td>\n",
       "      <td>0.382602</td>\n",
       "      <td>1.592505</td>\n",
       "      <td>1.305994</td>\n",
       "      <td>0.027946</td>\n",
       "      <td>-0.681290</td>\n",
       "      <td>-0.570139</td>\n",
       "      <td>0.181687</td>\n",
       "      <td>-0.519574</td>\n",
       "      <td>0.622014</td>\n",
       "    </tr>\n",
       "    <tr>\n",
       "      <th>1</th>\n",
       "      <td>-0.676543</td>\n",
       "      <td>-1.262021</td>\n",
       "      <td>-1.125776</td>\n",
       "      <td>-1.106271</td>\n",
       "      <td>-0.928771</td>\n",
       "      <td>-0.402986</td>\n",
       "      <td>-0.526495</td>\n",
       "      <td>0.855719</td>\n",
       "      <td>-1.245316</td>\n",
       "      <td>-1.211771</td>\n",
       "      <td>...</td>\n",
       "      <td>-0.293823</td>\n",
       "      <td>-0.428978</td>\n",
       "      <td>-0.629561</td>\n",
       "      <td>-0.614417</td>\n",
       "      <td>-0.890705</td>\n",
       "      <td>-0.936046</td>\n",
       "      <td>-0.570139</td>\n",
       "      <td>-1.031871</td>\n",
       "      <td>-1.791258</td>\n",
       "      <td>-1.062625</td>\n",
       "    </tr>\n",
       "    <tr>\n",
       "      <th>2</th>\n",
       "      <td>-1.477186</td>\n",
       "      <td>-0.626324</td>\n",
       "      <td>-0.737874</td>\n",
       "      <td>-0.570190</td>\n",
       "      <td>-1.093001</td>\n",
       "      <td>-0.742854</td>\n",
       "      <td>-0.569509</td>\n",
       "      <td>-0.572038</td>\n",
       "      <td>-0.558589</td>\n",
       "      <td>-0.421649</td>\n",
       "      <td>...</td>\n",
       "      <td>0.467274</td>\n",
       "      <td>0.653128</td>\n",
       "      <td>-0.681237</td>\n",
       "      <td>-0.374366</td>\n",
       "      <td>-0.728591</td>\n",
       "      <td>-0.171778</td>\n",
       "      <td>-0.303006</td>\n",
       "      <td>-0.910515</td>\n",
       "      <td>-0.236977</td>\n",
       "      <td>-0.753517</td>\n",
       "    </tr>\n",
       "    <tr>\n",
       "      <th>3</th>\n",
       "      <td>-1.377105</td>\n",
       "      <td>-1.602572</td>\n",
       "      <td>-1.255076</td>\n",
       "      <td>-1.188746</td>\n",
       "      <td>-1.503576</td>\n",
       "      <td>-0.856143</td>\n",
       "      <td>-0.827595</td>\n",
       "      <td>-0.681166</td>\n",
       "      <td>-1.086840</td>\n",
       "      <td>-1.123980</td>\n",
       "      <td>...</td>\n",
       "      <td>0.052130</td>\n",
       "      <td>-1.105294</td>\n",
       "      <td>-1.353024</td>\n",
       "      <td>-1.374580</td>\n",
       "      <td>-0.458399</td>\n",
       "      <td>-1.445557</td>\n",
       "      <td>-1.104406</td>\n",
       "      <td>-1.031871</td>\n",
       "      <td>-1.791258</td>\n",
       "      <td>-1.232635</td>\n",
       "    </tr>\n",
       "    <tr>\n",
       "      <th>4</th>\n",
       "      <td>1.074863</td>\n",
       "      <td>1.371581</td>\n",
       "      <td>1.718833</td>\n",
       "      <td>1.677227</td>\n",
       "      <td>0.220839</td>\n",
       "      <td>0.390039</td>\n",
       "      <td>0.634891</td>\n",
       "      <td>0.073635</td>\n",
       "      <td>1.924195</td>\n",
       "      <td>1.948717</td>\n",
       "      <td>...</td>\n",
       "      <td>0.121321</td>\n",
       "      <td>1.329444</td>\n",
       "      <td>3.142784</td>\n",
       "      <td>2.826319</td>\n",
       "      <td>0.568328</td>\n",
       "      <td>0.847245</td>\n",
       "      <td>1.566929</td>\n",
       "      <td>0.909822</td>\n",
       "      <td>1.034707</td>\n",
       "      <td>1.240230</td>\n",
       "    </tr>\n",
       "  </tbody>\n",
       "</table>\n",
       "<p>5 rows × 24 columns</p>\n",
       "</div>"
      ],
      "text/plain": [
       "          G        MP        FG       FGA       FG%        3P       3PA  \\\n",
       "0  1.124903  0.168298  0.382729  0.543209 -0.283582  1.636220  1.452162   \n",
       "1 -0.676543 -1.262021 -1.125776 -1.106271 -0.928771 -0.402986 -0.526495   \n",
       "2 -1.477186 -0.626324 -0.737874 -0.570190 -1.093001 -0.742854 -0.569509   \n",
       "3 -1.377105 -1.602572 -1.255076 -1.188746 -1.503576 -0.856143 -0.827595   \n",
       "4  1.074863  1.371581  1.718833  1.677227  0.220839  0.390039  0.634891   \n",
       "\n",
       "        3P%        2P       2PA  ...       FT%       ORB       DRB       TRB  \\\n",
       "0  0.782967 -0.294463 -0.246067  ...  0.661008  0.382602  1.592505  1.305994   \n",
       "1  0.855719 -1.245316 -1.211771  ... -0.293823 -0.428978 -0.629561 -0.614417   \n",
       "2 -0.572038 -0.558589 -0.421649  ...  0.467274  0.653128 -0.681237 -0.374366   \n",
       "3 -0.681166 -1.086840 -1.123980  ...  0.052130 -1.105294 -1.353024 -1.374580   \n",
       "4  0.073635  1.924195  1.948717  ...  0.121321  1.329444  3.142784  2.826319   \n",
       "\n",
       "        AST       STL       BLK       TOV        PF       PTS  \n",
       "0  0.027946 -0.681290 -0.570139  0.181687 -0.519574  0.622014  \n",
       "1 -0.890705 -0.936046 -0.570139 -1.031871 -1.791258 -1.062625  \n",
       "2 -0.728591 -0.171778 -0.303006 -0.910515 -0.236977 -0.753517  \n",
       "3 -0.458399 -1.445557 -1.104406 -1.031871 -1.791258 -1.232635  \n",
       "4  0.568328  0.847245  1.566929  0.909822  1.034707  1.240230  \n",
       "\n",
       "[5 rows x 24 columns]"
      ]
     },
     "execution_count": 19,
     "metadata": {},
     "output_type": "execute_result"
    }
   ],
   "source": [
    "# View new scaled df appearance\n",
    "X_train_scaled.head()"
   ]
  },
  {
   "cell_type": "code",
   "execution_count": 20,
   "id": "6b4a6234",
   "metadata": {},
   "outputs": [],
   "source": [
    "# Save the data\n",
    "X_train_scaled.to_csv(\"nba_train_scaled.csv\")\n",
    "X_test_scaled.to_csv(\"nba_test_scaled.csv\")"
   ]
  },
  {
   "cell_type": "markdown",
   "id": "53045e75",
   "metadata": {},
   "source": [
    "## Summary"
   ]
  },
  {
   "cell_type": "markdown",
   "id": "094900af",
   "metadata": {},
   "source": [
    "NBA Stats data frame did not seem to have any categorical variables, but dummy features were created for any potential categorical features that were overlooked. Then, the scaled data was split into training and test data subsets with a 70/30 split. Finally, in order to standardize the magntiude of all the numerical features, a standard scaler was first fitting based on the training data and then the scaler was applied to both the training and test sets. "
   ]
  }
 ],
 "metadata": {
  "kernelspec": {
   "display_name": "Python 3 (ipykernel)",
   "language": "python",
   "name": "python3"
  },
  "language_info": {
   "codemirror_mode": {
    "name": "ipython",
    "version": 3
   },
   "file_extension": ".py",
   "mimetype": "text/x-python",
   "name": "python",
   "nbconvert_exporter": "python",
   "pygments_lexer": "ipython3",
   "version": "3.9.12"
  }
 },
 "nbformat": 4,
 "nbformat_minor": 5
}
